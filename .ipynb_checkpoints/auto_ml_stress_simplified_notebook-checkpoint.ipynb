{
 "cells": [
  {
   "cell_type": "code",
   "execution_count": null,
   "metadata": {
    "collapsed": true
   },
   "outputs": [],
   "source": [
    "from sklearn.model_selection import train_test_split\n",
    "from sklearn.neural_network import MLPClassifier\n",
    "from sklearn.model_selection import StratifiedKFold\n",
    "from sklearn.model_selection import GridSearchCV \n",
    "from tpot import TPOTClassifier\n",
    "%matplotlib inline\n",
    "import matplotlib.pyplot as plt\n",
    "from scipy import signal \n",
    "import pickle\n",
    "\n",
    "\n",
    "import sklearn.metrics\n",
    "from sklearn.model_selection import cross_val_score\n",
    "from sklearn import svm\n",
    "import numpy as np\n",
    "import pandas as pd\n",
    "from sklearn.metrics import precision_recall_fscore_support \n",
    "\n",
    "pd.set_option('display.max_columns', None)\n",
    "pd.set_option('display.max_rows', None)\n",
    "pd.set_option('display.max_colwidth', -1)"
   ]
  },
  {
   "cell_type": "code",
   "execution_count": null,
   "metadata": {
    "collapsed": true
   },
   "outputs": [],
   "source": []
  },
  {
   "cell_type": "code",
   "execution_count": null,
   "metadata": {
    "collapsed": true
   },
   "outputs": [],
   "source": [
    "dataframe_hrv = pd.read_csv(\"dataset/dataframe_hrv.csv\")\n",
    "dataframe_hrv = dataframe_hrv.reset_index(drop=True)\n"
   ]
  },
  {
   "cell_type": "code",
   "execution_count": null,
   "metadata": {},
   "outputs": [],
   "source": [
    "display(dataframe_hrv.head(5))"
   ]
  },
  {
   "cell_type": "code",
   "execution_count": null,
   "metadata": {},
   "outputs": [],
   "source": [
    "display(dataframe_hrv.describe())\n",
    "print(dataframe_hrv.columns)"
   ]
  },
  {
   "cell_type": "code",
   "execution_count": null,
   "metadata": {
    "collapsed": true,
    "scrolled": false
   },
   "outputs": [],
   "source": []
  },
  {
   "cell_type": "code",
   "execution_count": null,
   "metadata": {},
   "outputs": [],
   "source": [
    "def fix_stress_labels(df='',label_column='stress'):\n",
    "    df['stress'] = np.where(df['stress']>=0.5, 1, 0)\n",
    "    display(df[\"stress\"].unique())\n",
    "    return df\n",
    "dataframe_hrv = fix_stress_labels(df=dataframe_hrv)"
   ]
  },
  {
   "cell_type": "code",
   "execution_count": null,
   "metadata": {
    "collapsed": true
   },
   "outputs": [],
   "source": [
    "def missing_values(df):\n",
    "    df = df.reset_index()\n",
    "    df = df.replace([np.inf, -np.inf], np.nan)\n",
    "    df[~np.isfinite(df)] = np.nan\n",
    "#     df.plot( y=[\"HR\"])\n",
    "    df['HR'].fillna((df['HR'].mean()), inplace=True)\n",
    "    df['HR'] = signal.medfilt(df['HR'],13) \n",
    "#     df.plot( y=[\"HR\"])\n",
    "\n",
    "    df=df.fillna(df.mean(),inplace=True)\n",
    "    return df\n",
    "\n",
    "dataframe_hrv = missing_values(dataframe_hrv)\n"
   ]
  },
  {
   "cell_type": "code",
   "execution_count": null,
   "metadata": {
    "collapsed": true
   },
   "outputs": [],
   "source": []
  },
  {
   "cell_type": "code",
   "execution_count": null,
   "metadata": {
    "collapsed": true
   },
   "outputs": [],
   "source": [
    "selected_x_columns = ['HR','SDNN','AVNN','interval in seconds', 'RMSSD', 'pNN50', 'TP', 'LF', 'HF']\n",
    "\n",
    "\n",
    "# ['HR', 'interval in seconds', 'AVNN', 'RMSSD', 'pNN50', 'TP', 'ULF','VLF', 'LF', 'HF', 'LF_HF']"
   ]
  },
  {
   "cell_type": "code",
   "execution_count": null,
   "metadata": {},
   "outputs": [],
   "source": [
    "selected_x_columns = ['HR','interval in seconds','AVNN', 'RMSSD', 'pNN50', 'TP', 'ULF', 'VLF', 'LF', 'HF','LF_HF']\n",
    "\n",
    "X = dataframe_hrv[selected_x_columns]\n",
    "y = dataframe_hrv['stress']\n",
    "\n",
    "print(X.columns)\n",
    "\n",
    "X.describe()\n",
    "\n",
    "X.shape"
   ]
  },
  {
   "cell_type": "code",
   "execution_count": null,
   "metadata": {},
   "outputs": [],
   "source": [
    "X.describe()"
   ]
  },
  {
   "cell_type": "code",
   "execution_count": null,
   "metadata": {},
   "outputs": [],
   "source": [
    "def do_tpot(generations=5, population_size=10,X='',y=''):\n",
    "\n",
    "    X_train, X_test, y_train, y_test = train_test_split(X, y,\n",
    "                                                        train_size=0.80, test_size=0.20)\n",
    "\n",
    "    tpot = TPOTClassifier(generations=generations, population_size=population_size, verbosity=2,cv=3)\n",
    "    tpot.fit(X_train, y_train)\n",
    "    print(tpot.score(X_test, y_test))\n",
    "    tpot.export('tpot_pipeline.py')\n",
    "    return tpot\n",
    "\n",
    "tpot_classifer = do_tpot(generations=10, population_size=20,X=X,y=y)"
   ]
  },
  {
   "cell_type": "code",
   "execution_count": null,
   "metadata": {},
   "outputs": [],
   "source": []
  },
  {
   "cell_type": "code",
   "execution_count": null,
   "metadata": {
    "collapsed": true
   },
   "outputs": [],
   "source": [
    "\n",
    "def plotFitBitReading(dfnewHRV='', predictor = \"none\",selected_x_columns=''):\n",
    "    dfnewHRV = missing_values(dfnewHRV)\n",
    "    dfnewPol = dfnewHRV[selected_x_columns].fillna(0)\n",
    "\n",
    "    print(dfnewPol.columns)\n",
    "    print(dfnewPol.shape)\n",
    "    pred = predictor.predict_proba(dfnewPol)\n",
    "    \n",
    "    dfpred = pd.DataFrame(pred)\n",
    "\n",
    "    dfpred.columns = [[\"FALSE\",\"TRUE\"]]\n",
    "    dfpred['stress'] = np.where(dfpred[\"TRUE\"] > 0.5, 1, np.nan)\n",
    "\n",
    "    \n",
    "    dfnewHRV[\"stress\"] = dfpred[\"stress\"]\n",
    "    dfnewHRV.loc[dfnewHRV[\"steps\"] > 0, 'stress'] = np.nan\n",
    "    #mark is to mark the RR peaks as stress\n",
    "    dfnewHRV.loc[dfnewHRV[\"stress\"] == 1, 'stress'] = dfnewHRV['interval in seconds'] \n",
    "    dfnewHRV.loc[dfnewHRV[\"steps\"] > 0, 'moving'] = dfnewHRV['interval in seconds'] \n",
    "    dfnewHRV[\"minutes\"] = (dfnewHRV['newtime']/60)/1000\n",
    "    \n",
    "    from itertools import cycle, islice\n",
    "    my_colors = list(islice(cycle(['b', 'r', 'y', 'k']), None, len(dfnewHRV)))\n",
    "    plot = dfnewHRV.plot(x=\"minutes\", y=['interval in seconds',\"stress\", \"moving\"],color=my_colors)\n",
    "    \n",
    "    fig = plot.get_figure()\n",
    "\n",
    "    \n"
   ]
  },
  {
   "cell_type": "code",
   "execution_count": null,
   "metadata": {},
   "outputs": [],
   "source": [
    "import glob\n",
    "\n",
    "for filename in glob.iglob('dataset/**/*.csv', recursive=True):\n",
    "    if 'dfnew' in filename:\n",
    "        print(filename)"
   ]
  },
  {
   "cell_type": "code",
   "execution_count": null,
   "metadata": {},
   "outputs": [],
   "source": [
    "input_df = pd.read_csv('dataset/Vikings/Female_24_years_old/dfnewHRV.csv')\n",
    "plotFitBitReading(input_df,tpot_classifer,selected_x_columns)"
   ]
  },
  {
   "cell_type": "code",
   "execution_count": null,
   "metadata": {
    "collapsed": true
   },
   "outputs": [],
   "source": []
  },
  {
   "cell_type": "code",
   "execution_count": null,
   "metadata": {
    "collapsed": true
   },
   "outputs": [],
   "source": []
  },
  {
   "cell_type": "code",
   "execution_count": null,
   "metadata": {
    "collapsed": true
   },
   "outputs": [],
   "source": []
  },
  {
   "cell_type": "code",
   "execution_count": null,
   "metadata": {
    "collapsed": true
   },
   "outputs": [],
   "source": []
  },
  {
   "cell_type": "code",
   "execution_count": null,
   "metadata": {
    "collapsed": true
   },
   "outputs": [],
   "source": []
  }
 ],
 "metadata": {
  "kernelspec": {
   "display_name": "Python 3",
   "language": "python",
   "name": "python3"
  },
  "language_info": {
   "codemirror_mode": {
    "name": "ipython",
    "version": 3
   },
   "file_extension": ".py",
   "mimetype": "text/x-python",
   "name": "python",
   "nbconvert_exporter": "python",
   "pygments_lexer": "ipython3",
   "version": "3.6.1"
  }
 },
 "nbformat": 4,
 "nbformat_minor": 2
}
